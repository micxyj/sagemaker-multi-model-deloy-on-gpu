{
 "cells": [
  {
   "cell_type": "markdown",
   "metadata": {},
   "source": [
    "# tf-mme"
   ]
  },
  {
   "cell_type": "code",
   "execution_count": 1,
   "metadata": {},
   "outputs": [],
   "source": [
    "import os\n",
    "import sagemaker\n",
    "from sagemaker import get_execution_role\n",
    "import pandas as pd\n",
    "\n",
    "sagemaker_session = sagemaker.Session()\n",
    "\n",
    "role = get_execution_role()\n",
    "region = sagemaker_session.boto_session.region_name\n",
    "bucket = sagemaker_session.default_bucket()"
   ]
  },
  {
   "cell_type": "code",
   "execution_count": 4,
   "metadata": {},
   "outputs": [
    {
     "name": "stdout",
     "output_type": "stream",
     "text": [
      "1611669077/\n",
      "1611669077/saved_model.pb\n",
      "1611669077/variables/\n",
      "1611669077/variables/variables.data-00001-of-00002\n",
      "1611669077/variables/variables.index\n",
      "1611669077/variables/variables.data-00000-of-00002\n",
      "1611669077/\n",
      "1611669077/saved_model.pb\n",
      "1611669077/variables/\n",
      "1611669077/variables/variables.data-00001-of-00002\n",
      "1611669077/variables/variables.index\n",
      "1611669077/variables/variables.data-00000-of-00002\n"
     ]
    }
   ],
   "source": [
    "!mkdir -p multi/model1\n",
    "!mkdir -p multi/model2\n",
    "!tar xvf model1.tar.gz -C ./multi/model1\n",
    "!tar xvf model2.tar.gz -C ./multi/model2"
   ]
  },
  {
   "cell_type": "code",
   "execution_count": 12,
   "metadata": {},
   "outputs": [
    {
     "name": "stdout",
     "output_type": "stream",
     "text": [
      "multi/\n",
      "multi/model1/\n",
      "multi/model1/1611669077/\n",
      "multi/model1/1611669077/variables/\n",
      "multi/model1/1611669077/variables/variables.data-00001-of-00002\n",
      "multi/model1/1611669077/variables/variables.data-00000-of-00002\n",
      "multi/model1/1611669077/variables/variables.index\n",
      "multi/model1/1611669077/saved_model.pb\n",
      "multi/model2/\n",
      "multi/model2/1611669077/\n",
      "multi/model2/1611669077/variables/\n",
      "multi/model2/1611669077/variables/variables.data-00001-of-00002\n",
      "multi/model2/1611669077/variables/variables.data-00000-of-00002\n",
      "multi/model2/1611669077/variables/variables.index\n",
      "multi/model2/1611669077/saved_model.pb\n"
     ]
    }
   ],
   "source": [
    "!tar -czvf multi.tar.gz multi/"
   ]
  },
  {
   "cell_type": "code",
   "execution_count": 13,
   "metadata": {},
   "outputs": [],
   "source": [
    "# 创建模型，不提供inference.py\n",
    "\n",
    "from sagemaker.tensorflow import TensorFlowModel\n",
    "\n",
    "env = {\n",
    "  'SAGEMAKER_TFS_DEFAULT_MODEL_NAME': 'model1'\n",
    "}\n",
    "\n",
    "iris_model = TensorFlowModel(model_data='s3://your_bucket_name/lb-mme-tf/multi.tar.gz',\n",
    "                        role=role,\n",
    "                        framework_version='1.15.2',\n",
    "                        env=env\n",
    "                        )"
   ]
  },
  {
   "cell_type": "code",
   "execution_count": 14,
   "metadata": {},
   "outputs": [
    {
     "name": "stderr",
     "output_type": "stream",
     "text": [
      "update_endpoint is a no-op in sagemaker>=2.\n",
      "See: https://sagemaker.readthedocs.io/en/stable/v2.html for details.\n"
     ]
    },
    {
     "name": "stdout",
     "output_type": "stream",
     "text": [
      "------!"
     ]
    }
   ],
   "source": [
    "# 部署\n",
    "\n",
    "predictor = iris_model.deploy(initial_instance_count=1, instance_type='ml.g4dn.xlarge')"
   ]
  },
  {
   "cell_type": "code",
   "execution_count": 21,
   "metadata": {},
   "outputs": [],
   "source": [
    "from sagemaker.tensorflow import TensorFlowPredictor\n",
    "\n",
    "model2_predictor = TensorFlowPredictor('tensorflow-inference-2022-04-27-15-04-02-524', model_name='model2')"
   ]
  },
  {
   "cell_type": "code",
   "execution_count": 29,
   "metadata": {},
   "outputs": [],
   "source": [
    "from sagemaker.tensorflow import TensorFlowPredictor\n",
    "\n",
    "model1_predictor = TensorFlowPredictor('tensorflow-inference-2022-04-27-15-04-02-524', model_name='model1')"
   ]
  },
  {
   "cell_type": "code",
   "execution_count": 35,
   "metadata": {},
   "outputs": [
    {
     "data": {
      "text/plain": [
       "{'examples': [{'0': 6.1, '1': 2.8, '2': 4.7, '3': 1.2},\n",
       "  {'0': 5.7, '1': 3.8, '2': 1.7, '3': 0.3},\n",
       "  {'0': 7.7, '1': 2.6, '2': 6.9, '3': 2.3},\n",
       "  {'0': 6.0, '1': 2.9, '2': 4.5, '3': 1.5},\n",
       "  {'0': 6.8, '1': 2.8, '2': 4.8, '3': 1.4}]}"
      ]
     },
     "execution_count": 35,
     "metadata": {},
     "output_type": "execute_result"
    }
   ],
   "source": [
    "# 将iris_test.csv数据中的前五行数据取出，构造classify接口所能接受的examples\n",
    "\n",
    "df = pd.read_csv('iris_test.csv', index_col=False)\n",
    "examples = []\n",
    "for i in df.index[:5]:\n",
    "    row = {col: df.loc[i, col] for col in df.columns[:4]}\n",
    "    examples.append(row)\n",
    "data1 = {'examples': examples}\n",
    "data1"
   ]
  },
  {
   "cell_type": "code",
   "execution_count": 17,
   "metadata": {},
   "outputs": [
    {
     "data": {
      "text/plain": [
       "{'results': [[['0', 0.0284139793], ['1', 0.639631271], ['2', 0.331954837]],\n",
       "  [['0', 0.961801767], ['1', 0.0314502306], ['2', 0.0067479061]],\n",
       "  [['0', 0.0027867991], ['1', 0.0766616166], ['2', 0.920551538]],\n",
       "  [['0', 0.0266317707], ['1', 0.590011418], ['2', 0.38335681]],\n",
       "  [['0', 0.0254174341], ['1', 0.60687983], ['2', 0.367702723]]]}"
      ]
     },
     "execution_count": 17,
     "metadata": {},
     "output_type": "execute_result"
    }
   ],
   "source": [
    "# 推理\n",
    "\n",
    "predictor.classify(data1)"
   ]
  },
  {
   "cell_type": "code",
   "execution_count": 31,
   "metadata": {},
   "outputs": [
    {
     "data": {
      "text/plain": [
       "{'results': [[['0', 0.0284139793], ['1', 0.639631271], ['2', 0.331954837]],\n",
       "  [['0', 0.961801767], ['1', 0.0314502306], ['2', 0.0067479061]],\n",
       "  [['0', 0.0027867991], ['1', 0.0766616166], ['2', 0.920551538]],\n",
       "  [['0', 0.0266317707], ['1', 0.590011418], ['2', 0.38335681]],\n",
       "  [['0', 0.0254174341], ['1', 0.60687983], ['2', 0.367702723]]]}"
      ]
     },
     "execution_count": 31,
     "metadata": {},
     "output_type": "execute_result"
    }
   ],
   "source": [
    "model2_predictor.classify(data1)"
   ]
  },
  {
   "cell_type": "code",
   "execution_count": 30,
   "metadata": {},
   "outputs": [
    {
     "data": {
      "text/plain": [
       "{'results': [[['0', 0.0284139793], ['1', 0.639631271], ['2', 0.331954837]],\n",
       "  [['0', 0.961801767], ['1', 0.0314502306], ['2', 0.0067479061]],\n",
       "  [['0', 0.0027867991], ['1', 0.0766616166], ['2', 0.920551538]],\n",
       "  [['0', 0.0266317707], ['1', 0.590011418], ['2', 0.38335681]],\n",
       "  [['0', 0.0254174341], ['1', 0.60687983], ['2', 0.367702723]]]}"
      ]
     },
     "execution_count": 30,
     "metadata": {},
     "output_type": "execute_result"
    }
   ],
   "source": [
    "model1_predictor.classify(data1)"
   ]
  },
  {
   "cell_type": "code",
   "execution_count": null,
   "metadata": {},
   "outputs": [],
   "source": [
    "while True:\n",
    "    res = model1_predictor.classify(data1)"
   ]
  },
  {
   "cell_type": "code",
   "execution_count": null,
   "metadata": {},
   "outputs": [],
   "source": []
  }
 ],
 "metadata": {
  "instance_type": "ml.t3.medium",
  "kernelspec": {
   "display_name": "Python 3 (Data Science)",
   "language": "python",
   "name": "python3__SAGEMAKER_INTERNAL__arn:aws:sagemaker:ap-northeast-1:102112518831:image/datascience-1.0"
  },
  "language_info": {
   "codemirror_mode": {
    "name": "ipython",
    "version": 3
   },
   "file_extension": ".py",
   "mimetype": "text/x-python",
   "name": "python",
   "nbconvert_exporter": "python",
   "pygments_lexer": "ipython3",
   "version": "3.7.10"
  }
 },
 "nbformat": 4,
 "nbformat_minor": 4
}
